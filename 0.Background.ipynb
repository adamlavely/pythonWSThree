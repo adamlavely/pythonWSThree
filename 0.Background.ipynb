{
 "cells": [
  {
   "cell_type": "markdown",
   "metadata": {},
   "source": [
    "# Timeit"
   ]
  },
  {
   "cell_type": "markdown",
   "metadata": {},
   "source": [
    "We are going to use the timeit function in order to calculate the time for different codes to run in order to compare methods.  We will use this in three different ways"
   ]
  },
  {
   "cell_type": "markdown",
   "metadata": {},
   "source": [
    "Time a function that has no inputs.  Note that we control the number of iterations"
   ]
  },
  {
   "cell_type": "code",
   "execution_count": 5,
   "metadata": {},
   "outputs": [
    {
     "name": "stdout",
     "output_type": "stream",
     "text": [
      "Total Time: 0.00716280937195\n",
      "Total Time: 0.0265529155731\n"
     ]
    }
   ],
   "source": [
    "import timeit as ti\n",
    "iterMaxA = 10000\n",
    "iterMaxB = 100000\n",
    "\n",
    "def makeFloat( ):\n",
    "    valB = float( '5' )\n",
    "    \n",
    "print 'Total Time:', ti.timeit( makeFloat, number = iterMaxA )\n",
    "print 'Total Time:', ti.timeit( makeFloat, number = iterMaxB )"
   ]
  },
  {
   "cell_type": "markdown",
   "metadata": {},
   "source": [
    "The time for a function that requires inputs"
   ]
  },
  {
   "cell_type": "code",
   "execution_count": null,
   "metadata": {},
   "outputs": [],
   "source": [
    "import numpy as np\n",
    "import timeit as ti\n",
    "iterMax = 10000\n",
    "\n",
    "def numpyAdd(n):\n",
    "    a = np.arange(n) ** 2\n",
    "    b = np.arange(n) ** 3\n",
    "    return a + b\n",
    "\n",
    "print 'Numpy:', ti.timeit( 'numpyAdd(10)', 'from __main__ import numpyAdd', number = iterMax )"
   ]
  },
  {
   "cell_type": "markdown",
   "metadata": {},
   "source": [
    "Time to run the cell, it will repeat some number of times that varies to get roughly a 5 second runtime"
   ]
  },
  {
   "cell_type": "code",
   "execution_count": 6,
   "metadata": {},
   "outputs": [
    {
     "name": "stdout",
     "output_type": "stream",
     "text": [
      "10000 loops, best of 3: 67 µs per loop\n"
     ]
    }
   ],
   "source": [
    "%%timeit\n",
    "out=[]\n",
    "someList = range(500)\n",
    "for i in range( len( someList ) ):\n",
    "    out.append( someList[i] * 2 )"
   ]
  },
  {
   "cell_type": "code",
   "execution_count": null,
   "metadata": {},
   "outputs": [],
   "source": []
  }
 ],
 "metadata": {
  "kernelspec": {
   "display_name": "Python 2",
   "language": "python",
   "name": "python2"
  },
  "language_info": {
   "codemirror_mode": {
    "name": "ipython",
    "version": 2
   },
   "file_extension": ".py",
   "mimetype": "text/x-python",
   "name": "python",
   "nbconvert_exporter": "python",
   "pygments_lexer": "ipython2",
   "version": "2.7.15"
  }
 },
 "nbformat": 4,
 "nbformat_minor": 2
}
