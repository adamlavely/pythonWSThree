{
 "cells": [
  {
   "cell_type": "markdown",
   "metadata": {},
   "source": [
    "# Faster Data Types"
   ]
  },
  {
   "cell_type": "markdown",
   "metadata": {},
   "source": [
    "Python is simple because of it's flexibility - it tries to find what will work best"
   ]
  },
  {
   "cell_type": "markdown",
   "metadata": {},
   "source": [
    "## Specifying data types"
   ]
  },
  {
   "cell_type": "markdown",
   "metadata": {},
   "source": [
    "Python uses different checks to be able to choose the correct data-type, even when it is given: the more specific about your data you can be, the fewer checks are done"
   ]
  },
  {
   "cell_type": "code",
   "execution_count": 101,
   "metadata": {},
   "outputs": [
    {
     "name": "stdout",
     "output_type": "stream",
     "text": [
      "Float: 0.0639600753784\n",
      "Int:   0.115952014923\n",
      "Int+:  0.0929849147797\n"
     ]
    }
   ],
   "source": [
    "import timeit as ti\n",
    "iterMax = 100000\n",
    "\n",
    "def makeFloat( ):\n",
    "    valB = float( '5' )\n",
    "    \n",
    "def makeInt( ):\n",
    "    # Checks all bases - should take longest\n",
    "    valB = int( '5' )\n",
    "        \n",
    "def makeIntMore( ):\n",
    "    # Provide the base - fewer checks to should be faster\n",
    "    valB = int( '5', 10 )\n",
    "\n",
    "print 'Float:', ti.timeit( makeFloat,     number = iterMax )\n",
    "print 'Int:  ', ti.timeit( makeInt,       number = iterMax )\n",
    "print 'Int+: ', ti.timeit( makeIntMore,   number = iterMax )"
   ]
  },
  {
   "cell_type": "markdown",
   "metadata": {},
   "source": [
    "## Avoiding Loops"
   ]
  },
  {
   "cell_type": "markdown",
   "metadata": {},
   "source": [
    "Loops tend to be slow in python (and in general, but compilers typically unroll for efficiency).  Let's look at some better ways of doing things."
   ]
  },
  {
   "cell_type": "code",
   "execution_count": 135,
   "metadata": {},
   "outputs": [],
   "source": [
    "import numpy as np\n",
    "someList = range(50)"
   ]
  },
  {
   "cell_type": "code",
   "execution_count": 136,
   "metadata": {},
   "outputs": [
    {
     "name": "stdout",
     "output_type": "stream",
     "text": [
      "10000 loops, best of 3: 20.8 µs per loop\n"
     ]
    }
   ],
   "source": [
    "%%timeit\n",
    "out=[]\n",
    "for i in range( len( someList ) ):\n",
    "    out.append( someList[i] * 2 )"
   ]
  },
  {
   "cell_type": "code",
   "execution_count": 137,
   "metadata": {},
   "outputs": [
    {
     "name": "stdout",
     "output_type": "stream",
     "text": [
      "1000000 loops, best of 3: 1.62 µs per loop\n"
     ]
    }
   ],
   "source": [
    "%%timeit\n",
    "twoXSomeList = ( someList[i] * 2 for i in range( len( someList ) ) )"
   ]
  },
  {
   "cell_type": "markdown",
   "metadata": {},
   "source": [
    "Enumerate and Zip can also be used for efficiency if you need to use loops with multiple variables"
   ]
  },
  {
   "cell_type": "code",
   "execution_count": 165,
   "metadata": {},
   "outputs": [
    {
     "name": "stdout",
     "output_type": "stream",
     "text": [
      "bothInd: 1.94408679008\n",
      "indVal:  1.61185789108\n",
      "zipped:  1.42466115952\n"
     ]
    }
   ],
   "source": [
    "import timeit as ti\n",
    "iterMax = 10000\n",
    "incVal = 1\n",
    "aTot = range( 0, 500, incVal )\n",
    "bTot = range( 1000, 1500, incVal )\n",
    "\n",
    "def bothInd():\n",
    "    for indVal in range( len( aTot ) ):\n",
    "        out = aTot[indVal] * bTot[indVal]\n",
    "\n",
    "def indVal():\n",
    "    for indVal, aValue in enumerate( aTot ):\n",
    "        out = aValue * bTot[indVal]\n",
    "        \n",
    "def zipped():\n",
    "    for aValue, bValue in zip(aTot, bTot):\n",
    "         out = aValue * bValue\n",
    "            \n",
    "            \n",
    "print 'bothInd:', ti.timeit( bothInd, number = iterMax )\n",
    "print 'indVal: ', ti.timeit( indVal,  number = iterMax )\n",
    "print 'zipped: ', ti.timeit( zipped,  number = iterMax )"
   ]
  },
  {
   "cell_type": "markdown",
   "metadata": {},
   "source": [
    "## Numpy structures"
   ]
  },
  {
   "cell_type": "markdown",
   "metadata": {},
   "source": [
    "Numpy has built in structures to do create efficient arrays!  There is some overhead associated with the creation of the arrays, so larger arrays have more savings"
   ]
  },
  {
   "cell_type": "code",
   "execution_count": 160,
   "metadata": {},
   "outputs": [
    {
     "name": "stdout",
     "output_type": "stream",
     "text": [
      "#-# 10 \n",
      "Numpy: 0.0701229572296\n",
      "List:  0.151982069016\n",
      "#-# 100 \n",
      "Numpy: 0.0660808086395\n",
      "List:  1.06911015511\n",
      "#-# 10000 \n",
      "Numpy: 0.143600940704\n",
      "List:  9.38206911087\n"
     ]
    }
   ],
   "source": [
    "import numpy as np\n",
    "import timeit as ti\n",
    "iterMax = 10000\n",
    "\n",
    "def numpyAdd(n):\n",
    "    a = np.arange(n) ** 2\n",
    "    b = np.arange(n) ** 3\n",
    "    return a + b\n",
    "\n",
    "def listAdd(n):\n",
    "    a = [i ** 2 for i in range(n)]\n",
    "    b = [i ** 3 for i in range(n)]\n",
    "    return [a[i] + b[i] for i in range(n)]\n",
    "\n",
    "print '#-# 10 '\n",
    "print 'Numpy:', ti.timeit( 'numpyAdd(10)', 'from __main__ import numpyAdd', number = iterMax )\n",
    "print 'List: ', ti.timeit( 'listAdd(10)',  'from __main__ import listAdd',  number = iterMax )\n",
    "print '#-# 100 '\n",
    "print 'Numpy:', ti.timeit( 'numpyAdd(100)', 'from __main__ import numpyAdd', number = iterMax )\n",
    "print 'List: ', ti.timeit( 'listAdd(100)',  'from __main__ import listAdd',  number = iterMax )\n",
    "print '#-# 10000 '\n",
    "print 'Numpy:', ti.timeit( 'numpyAdd(1000)', 'from __main__ import numpyAdd', number = iterMax )\n",
    "print 'List: ', ti.timeit( 'listAdd(1000)',  'from __main__ import listAdd',  number = iterMax )\n"
   ]
  },
  {
   "cell_type": "code",
   "execution_count": 161,
   "metadata": {},
   "outputs": [],
   "source": [
    "import numpy as np\n",
    "someList = range( 50 )\n",
    "someNpArray = np.array( someList )"
   ]
  },
  {
   "cell_type": "code",
   "execution_count": 162,
   "metadata": {},
   "outputs": [
    {
     "name": "stdout",
     "output_type": "stream",
     "text": [
      "10000 loops, best of 3: 20.5 µs per loop\n"
     ]
    }
   ],
   "source": [
    "%%timeit\n",
    "out=[]\n",
    "for i in range( len( someList ) ):\n",
    "    out.append( someList[i] * 2 )"
   ]
  },
  {
   "cell_type": "code",
   "execution_count": 163,
   "metadata": {},
   "outputs": [
    {
     "name": "stdout",
     "output_type": "stream",
     "text": [
      "1000000 loops, best of 3: 1.67 µs per loop\n"
     ]
    }
   ],
   "source": [
    "%%timeit\n",
    "twoXSomeList = ( someList[i] * 2 for i in range( len( someList ) ) )"
   ]
  },
  {
   "cell_type": "code",
   "execution_count": 164,
   "metadata": {},
   "outputs": [
    {
     "name": "stdout",
     "output_type": "stream",
     "text": [
      "The slowest run took 33.78 times longer than the fastest. This could mean that an intermediate result is being cached.\n",
      "1000000 loops, best of 3: 1.36 µs per loop\n"
     ]
    }
   ],
   "source": [
    "%%timeit\n",
    "twoXSomeArray = someNpArray * 2"
   ]
  },
  {
   "cell_type": "markdown",
   "metadata": {},
   "source": [
    "## Pandas structures"
   ]
  },
  {
   "cell_type": "code",
   "execution_count": null,
   "metadata": {},
   "outputs": [],
   "source": []
  },
  {
   "cell_type": "code",
   "execution_count": null,
   "metadata": {},
   "outputs": [],
   "source": []
  }
 ],
 "metadata": {
  "kernelspec": {
   "display_name": "Python 2",
   "language": "python",
   "name": "python2"
  },
  "language_info": {
   "codemirror_mode": {
    "name": "ipython",
    "version": 2
   },
   "file_extension": ".py",
   "mimetype": "text/x-python",
   "name": "python",
   "nbconvert_exporter": "python",
   "pygments_lexer": "ipython2",
   "version": "2.7.14"
  }
 },
 "nbformat": 4,
 "nbformat_minor": 2
}
