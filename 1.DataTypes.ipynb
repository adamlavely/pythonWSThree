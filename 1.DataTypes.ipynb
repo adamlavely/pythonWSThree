{
 "cells": [
  {
   "cell_type": "markdown",
   "metadata": {},
   "source": [
    "# Faster Data Types"
   ]
  },
  {
   "cell_type": "markdown",
   "metadata": {},
   "source": [
    "Python is simple because of it's flexibility - it tries to find what will work best"
   ]
  },
  {
   "cell_type": "markdown",
   "metadata": {},
   "source": [
    "## Specifying data types"
   ]
  },
  {
   "cell_type": "markdown",
   "metadata": {},
   "source": [
    "Python uses different checks to be able to choose the correct data-type, even when it is given: the more specific about your data you can be, the fewer checks are done"
   ]
  },
  {
   "cell_type": "code",
   "execution_count": 2,
   "metadata": {},
   "outputs": [
    {
     "name": "stdout",
     "output_type": "stream",
     "text": [
      "Float: 0.0285930633545\n",
      "Int:   0.0739169120789\n",
      "Int+:  0.0335159301758\n"
     ]
    }
   ],
   "source": [
    "import timeit as ti\n",
    "iterMax = 100000\n",
    "\n",
    "def makeFloat( ):\n",
    "    valB = float( '5' )\n",
    "    \n",
    "def makeInt( ):\n",
    "    # Checks all bases - should take longest\n",
    "    valB = int( '5' )\n",
    "        \n",
    "def makeIntMore( ):\n",
    "    # Provide the base - fewer checks to should be faster\n",
    "    valB = int( '5', 10 )\n",
    "\n",
    "print 'Float:', ti.timeit( makeFloat,     number = iterMax )\n",
    "print 'Int:  ', ti.timeit( makeInt,       number = iterMax )\n",
    "print 'Int+: ', ti.timeit( makeIntMore,   number = iterMax )"
   ]
  },
  {
   "cell_type": "markdown",
   "metadata": {},
   "source": [
    "## Avoiding Loops"
   ]
  },
  {
   "cell_type": "markdown",
   "metadata": {},
   "source": [
    "Loops tend to be slow in python (and in general, but compilers typically unroll for efficiency).  Let's look at some better ways of doing things."
   ]
  },
  {
   "cell_type": "code",
   "execution_count": 3,
   "metadata": {},
   "outputs": [],
   "source": [
    "import numpy as np\n",
    "someList = range(50)"
   ]
  },
  {
   "cell_type": "markdown",
   "metadata": {},
   "source": [
    "A basic for loop:"
   ]
  },
  {
   "cell_type": "code",
   "execution_count": 4,
   "metadata": {},
   "outputs": [
    {
     "name": "stdout",
     "output_type": "stream",
     "text": [
      "100000 loops, best of 3: 7.9 µs per loop\n"
     ]
    }
   ],
   "source": [
    "%%timeit\n",
    "out=[]\n",
    "for i in range( len( someList ) ):\n",
    "    out.append( someList[i] * 2 )"
   ]
  },
  {
   "cell_type": "markdown",
   "metadata": {},
   "source": [
    "The same thing, but in non-loop form:"
   ]
  },
  {
   "cell_type": "code",
   "execution_count": 101,
   "metadata": {},
   "outputs": [
    {
     "name": "stdout",
     "output_type": "stream",
     "text": [
      "1000000 loops, best of 3: 1.3 µs per loop\n"
     ]
    }
   ],
   "source": [
    "%%timeit\n",
    "twoXSomeList = ( someList[i] * 2 for i in range( len( someList ) ) )"
   ]
  },
  {
   "cell_type": "markdown",
   "metadata": {},
   "source": [
    "Enumerate and Zip can also be used for efficiency if you need to use loops with multiple variables"
   ]
  },
  {
   "cell_type": "code",
   "execution_count": 102,
   "metadata": {},
   "outputs": [
    {
     "name": "stdout",
     "output_type": "stream",
     "text": [
      "bothInd: 0.507728815079\n",
      "indVal:  0.388553857803\n",
      "zipped:  0.42235994339\n"
     ]
    }
   ],
   "source": [
    "import timeit as ti\n",
    "iterMax = 10000\n",
    "incVal = 1\n",
    "aTot = range( 0, 500, incVal )\n",
    "bTot = range( 1000, 1500, incVal )\n",
    "\n",
    "def bothInd():\n",
    "    for indVal in range( len( aTot ) ):\n",
    "        out = aTot[indVal] * bTot[indVal]\n",
    "\n",
    "def indVal():\n",
    "    for indVal, aValue in enumerate( aTot ):\n",
    "        out = aValue * bTot[indVal]\n",
    "        \n",
    "def zipped():\n",
    "    for aValue, bValue in zip(aTot, bTot):\n",
    "         out = aValue * bValue\n",
    "            \n",
    "            \n",
    "print 'bothInd:', ti.timeit( bothInd, number = iterMax )\n",
    "print 'indVal: ', ti.timeit( indVal,  number = iterMax )\n",
    "print 'zipped: ', ti.timeit( zipped,  number = iterMax )"
   ]
  },
  {
   "cell_type": "markdown",
   "metadata": {},
   "source": [
    "## Numpy structures"
   ]
  },
  {
   "cell_type": "markdown",
   "metadata": {},
   "source": [
    "Numpy has built in structures to do create efficient arrays!  There is some overhead associated with the creation of the arrays, so larger arrays have more savings"
   ]
  },
  {
   "cell_type": "code",
   "execution_count": 103,
   "metadata": {},
   "outputs": [
    {
     "name": "stdout",
     "output_type": "stream",
     "text": [
      "#-# 10 \n",
      "Numpy: 0.0656039714813\n",
      "List:  0.0457808971405\n",
      "#-# 100 \n",
      "Numpy: 0.0714168548584\n",
      "List:  0.294731140137\n",
      "#-# 10000 \n",
      "Numpy: 0.145833969116\n",
      "List:  2.82997989655\n"
     ]
    }
   ],
   "source": [
    "import numpy as np\n",
    "import timeit as ti\n",
    "iterMax = 10000\n",
    "\n",
    "def numpyAdd(n):\n",
    "    a = np.arange(n) ** 2\n",
    "    b = np.arange(n) ** 3\n",
    "    return a + b\n",
    "\n",
    "def listAdd(n):\n",
    "    a = [i ** 2 for i in range(n)]\n",
    "    b = [i ** 3 for i in range(n)]\n",
    "    return [a[i] + b[i] for i in range(n)]\n",
    "\n",
    "print '#-# 10 '\n",
    "print 'Numpy:', ti.timeit( 'numpyAdd(10)', 'from __main__ import numpyAdd', number = iterMax )\n",
    "print 'List: ', ti.timeit( 'listAdd(10)',  'from __main__ import listAdd',  number = iterMax )\n",
    "print '#-# 100 '\n",
    "print 'Numpy:', ti.timeit( 'numpyAdd(100)', 'from __main__ import numpyAdd', number = iterMax )\n",
    "print 'List: ', ti.timeit( 'listAdd(100)',  'from __main__ import listAdd',  number = iterMax )\n",
    "print '#-# 10000 '\n",
    "print 'Numpy:', ti.timeit( 'numpyAdd(1000)', 'from __main__ import numpyAdd', number = iterMax )\n",
    "print 'List: ', ti.timeit( 'listAdd(1000)',  'from __main__ import listAdd',  number = iterMax )\n"
   ]
  },
  {
   "cell_type": "code",
   "execution_count": 104,
   "metadata": {},
   "outputs": [],
   "source": [
    "import numpy as np\n",
    "someList = range( 500 )\n",
    "someNpArray = np.array( someList )"
   ]
  },
  {
   "cell_type": "code",
   "execution_count": 105,
   "metadata": {},
   "outputs": [
    {
     "name": "stdout",
     "output_type": "stream",
     "text": [
      "The slowest run took 8.98 times longer than the fastest. This could mean that an intermediate result is being cached.\n",
      "10000 loops, best of 3: 65.9 µs per loop\n"
     ]
    }
   ],
   "source": [
    "%%timeit\n",
    "out=[]\n",
    "for i in range( len( someList ) ):\n",
    "    out.append( someList[i] * 2 )"
   ]
  },
  {
   "cell_type": "code",
   "execution_count": 106,
   "metadata": {},
   "outputs": [
    {
     "name": "stdout",
     "output_type": "stream",
     "text": [
      "The slowest run took 4.36 times longer than the fastest. This could mean that an intermediate result is being cached.\n",
      "100000 loops, best of 3: 5.09 µs per loop\n"
     ]
    }
   ],
   "source": [
    "%%timeit\n",
    "twoXSomeList = ( someList[i] * 2 for i in range( len( someList ) ) )"
   ]
  },
  {
   "cell_type": "code",
   "execution_count": 107,
   "metadata": {},
   "outputs": [
    {
     "name": "stdout",
     "output_type": "stream",
     "text": [
      "The slowest run took 15.40 times longer than the fastest. This could mean that an intermediate result is being cached.\n",
      "100000 loops, best of 3: 2.09 µs per loop\n"
     ]
    }
   ],
   "source": [
    "%%timeit\n",
    "twoXSomeArray = someNpArray * 2"
   ]
  },
  {
   "cell_type": "markdown",
   "metadata": {},
   "source": [
    "## Pandas structures"
   ]
  },
  {
   "cell_type": "markdown",
   "metadata": {},
   "source": [
    "Pandas is a module created for working with large data-sets efficiently.  It uses DataFrames to store information in terms of the data, the column names and the index (row) names"
   ]
  },
  {
   "cell_type": "code",
   "execution_count": 6,
   "metadata": {},
   "outputs": [
    {
     "name": "stdout",
     "output_type": "stream",
     "text": [
      "      ColA  ColB\n",
      "RowA   1.0  10.1\n",
      "RowB  3.14   2.1\n",
      "RowC   3.0  42.0\n"
     ]
    }
   ],
   "source": [
    "import pandas as pd\n",
    "import numpy as np\n",
    "data = np.array( [ ['X',   'ColA', 'ColB' ],\n",
    "                   ['RowA', 1.0,    10.1  ],\n",
    "                   ['RowB', 3.14,   2.1   ],\n",
    "                   ['RowC', 3.0,    42.   ] ] )\n",
    "                \n",
    "dFrame = pd.DataFrame( data    = data[1:,1:],\n",
    "                       index   = data[1:,0],\n",
    "                       columns = data[0,1:]) \n",
    "\n",
    "print dFrame"
   ]
  },
  {
   "cell_type": "markdown",
   "metadata": {},
   "source": [
    "We can use the index and columns variables to loop through or as counters with len"
   ]
  },
  {
   "cell_type": "code",
   "execution_count": 7,
   "metadata": {},
   "outputs": [
    {
     "name": "stdout",
     "output_type": "stream",
     "text": [
      "3\n",
      "2\n"
     ]
    }
   ],
   "source": [
    "print len(dFrame.index)\n",
    "print len(dFrame.columns)"
   ]
  },
  {
   "cell_type": "markdown",
   "metadata": {},
   "source": [
    "Pandas allows for the data to be addressed in multiple ways"
   ]
  },
  {
   "cell_type": "code",
   "execution_count": 8,
   "metadata": {},
   "outputs": [
    {
     "name": "stdout",
     "output_type": "stream",
     "text": [
      "      ColA  ColB\n",
      "RowA   1.0  10.1\n",
      "RowB  3.14   2.1\n",
      "RowC   3.0  42.0\n",
      "3.14\n",
      "3.14\n",
      "3.14\n",
      "3.14\n"
     ]
    }
   ],
   "source": [
    "print dFrame\n",
    "\n",
    "# Using at - all dimensions listed in one set of brackets\n",
    "print dFrame.iat[1,0]\n",
    "print dFrame.at['RowB','ColA']\n",
    "\n",
    "# Using loc - all dimensions in separate brackets\n",
    "print dFrame.iloc[1][0]\n",
    "print dFrame.loc['RowB']['ColA']\n"
   ]
  },
  {
   "cell_type": "markdown",
   "metadata": {},
   "source": [
    "We can use some tools built into pandas to iterate through the data structure efficiently"
   ]
  },
  {
   "cell_type": "code",
   "execution_count": 10,
   "metadata": {},
   "outputs": [
    {
     "name": "stdout",
     "output_type": "stream",
     "text": [
      "      ColA  ColB\n",
      "RowA   1.0  10.1\n",
      "RowB  3.14   2.1\n",
      "RowC   3.0  42.0\n",
      "1.0\n",
      "3.14\n",
      "3.0\n"
     ]
    }
   ],
   "source": [
    "print dFrame\n",
    "\n",
    "for index, row in dFrame.iterrows():\n",
    "    #print 'Index:', index\n",
    "    print row[ 'ColA' ]"
   ]
  },
  {
   "cell_type": "code",
   "execution_count": 11,
   "metadata": {},
   "outputs": [
    {
     "name": "stdout",
     "output_type": "stream",
     "text": [
      "      ColA  ColB\n",
      "RowA   1.0  10.1\n",
      "RowB  3.14   2.1\n",
      "RowC   3.0  42.0\n",
      "1.0\n",
      "10.1\n"
     ]
    }
   ],
   "source": [
    "print dFrame\n",
    "\n",
    "for index, col in dFrame.iteritems():\n",
    "    #print 'Index:', index\n",
    "    print col[ 'RowA' ]"
   ]
  },
  {
   "cell_type": "markdown",
   "metadata": {},
   "source": [
    "Pandas also has built in math functions known for efficiency with large data-sets"
   ]
  },
  {
   "cell_type": "code",
   "execution_count": 12,
   "metadata": {},
   "outputs": [
    {
     "name": "stdout",
     "output_type": "stream",
     "text": [
      "      ColA  ColB\n",
      "RowA   1.0  10.1\n",
      "RowB  3.14   2.1\n",
      "RowC   3.0  42.0\n",
      "      ColA  ColB    sum\n",
      "RowA  1.00  10.1  11.10\n",
      "RowB  3.14   2.1   5.24\n",
      "RowC  3.00  42.0  45.00\n",
      "      ColA  ColB    sum\n",
      "RowA  2.00  11.1  12.10\n",
      "RowB  4.14   3.1   6.24\n",
      "RowC  4.00  43.0  46.00\n"
     ]
    }
   ],
   "source": [
    "print dFrame\n",
    "\n",
    "dFrame[\"ColA\"] = pd.to_numeric( dFrame[ \"ColA\" ] )\n",
    "dFrame[\"ColB\"] = pd.to_numeric( dFrame[ \"ColB\" ] )\n",
    "dFrame['sum'] = dFrame.sum( axis = 1 )\n",
    "print dFrame\n",
    "\n",
    "updatedDFrame = dFrame.applymap(lambda x: x+1) \n",
    "print updatedDFrame"
   ]
  },
  {
   "cell_type": "code",
   "execution_count": null,
   "metadata": {},
   "outputs": [],
   "source": []
  }
 ],
 "metadata": {
  "kernelspec": {
   "display_name": "Python 2",
   "language": "python",
   "name": "python2"
  },
  "language_info": {
   "codemirror_mode": {
    "name": "ipython",
    "version": 2
   },
   "file_extension": ".py",
   "mimetype": "text/x-python",
   "name": "python",
   "nbconvert_exporter": "python",
   "pygments_lexer": "ipython2",
   "version": "2.7.15"
  }
 },
 "nbformat": 4,
 "nbformat_minor": 2
}
